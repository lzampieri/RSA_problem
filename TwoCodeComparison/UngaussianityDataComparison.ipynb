{
 "cells": [
  {
   "cell_type": "code",
   "execution_count": 1,
   "metadata": {},
   "outputs": [],
   "source": [
    "%reset\n",
    "%load_ext autoreload\n",
    "%autoreload 2"
   ]
  },
  {
   "cell_type": "code",
   "execution_count": 2,
   "metadata": {},
   "outputs": [],
   "source": [
    "import numpy as np\n",
    "from functions import loader, splt, fitter, stats\n",
    "import matplotlib.pyplot as plt\n",
    "from scipy.stats import kurtosis, skew\n",
    "from uncertainties import *\n",
    "from uncertainties import unumpy as unp\n",
    "from math import ceil\n",
    "\n",
    "savedir = \"D03/\""
   ]
  },
  {
   "cell_type": "code",
   "execution_count": 5,
   "metadata": {},
   "outputs": [],
   "source": [
    "all_data_v1 = loader.load_data( \"../NumericS/Plans20221016ForUngaussianityscan_20221016/**/\" )\n",
    "all_data_v2 = loader.load_data( \"../NewDepositionData/Plans20221106ForUngaussianityscan_20221106_v2/**/\" )"
   ]
  },
  {
   "cell_type": "code",
   "execution_count": 6,
   "metadata": {},
   "outputs": [],
   "source": [
    "# splt.init( ceil( max_len / 2 ), 8 )\n",
    "for d in [ *all_data_v1, *all_data_v2 ]:\n",
    "    # splt.next() \n",
    "    d['mean'] = stats.compute_in_decades( d['chunks'], lambda c: np.mean( c ) )\n",
    "    # splt.next() \n",
    "    d['np_std']  = stats.compute_in_decades( d['chunks'], lambda c: np.std( c, ddof = 1 ) )"
   ]
  },
  {
   "cell_type": "code",
   "execution_count": 7,
   "metadata": {},
   "outputs": [],
   "source": [
    "def compat( a, b ):\n",
    "    return ( a.n - b.n ) / np.sqrt( a.s**2 + b.s**2 )"
   ]
  },
  {
   "cell_type": "code",
   "execution_count": 8,
   "metadata": {},
   "outputs": [
    {
     "name": "stdout",
     "output_type": "stream",
     "text": [
      "Side\tGamma\tQ\tType\t\tMean: v1\tv2\tcompat\n",
      "512\t0.4\t0.05\tDimers  \t  210730+/-       5\t  224600+/-       5\t-1981\tx\t     151+/-       4\t   133.0+/-     2.1\t4\tx\n",
      "512\t0.4\t0.05\tLinear trimers\t  192479+/-      11\t  208098+/-      10\t-1040\tx\t     209+/-       5\t     207+/-       6\t0\to\n",
      "512\t0.4\t0.2\tTrimers \t  165352+/-       6\t  175276+/-       7\t-1071\tx\t     184+/-       4\t     197+/-       4\t-2\to\n",
      "512\t0.4\t0.2\tSquared \t1.4690e+05+/-0.0004e+05\t  146778+/-      17\t3\to\t     563+/-      26\t     378+/-       9\t7\tx\n",
      "512\t0.8\t0.05\tDimers  \t  210594+/-       4\t  224276+/-       4\t-2239\tx\t   150.5+/-     3.2\t   127.7+/-     2.2\t6\tx\n",
      "512\t0.8\t0.05\tLinear trimers\t  191995+/-       7\t  207330+/-       6\t-1646\tx\t     204+/-       4\t     187+/-       4\t3\to\n",
      "512\t0.8\t0.05\tTrimers \t  199076+/-       5\t  211908+/-       4\t-1996\tx\t   176.1+/-     3.5\t   161.0+/-     2.6\t3\tx\n",
      "512\t0.8\t0.05\tSquared \t  181779+/-      10\t  181788+/-       8\t-1\to\t     268+/-       6\t     247+/-       5\t3\to\n",
      "512\t0.8\t0.1\tDimers  \t  198785+/-       5\t  211168+/-       4\t-1874\tx\t   149.7+/-     2.9\t   130.9+/-     2.2\t5\tx\n",
      "512\t0.8\t0.1\tLinear trimers\t  179957+/-      16\t  193566+/-      17\t-588\tx\t     217+/-       7\t     201+/-      10\t1\to\n",
      "512\t0.8\t0.1\tTrimers \t  187473+/-       5\t  199125+/-       6\t-1524\tx\t     174+/-       4\t   163.6+/-     3.4\t2\to\n",
      "512\t0.8\t0.1\tSquared \t  168573+/-      27\t  168557+/-      19\t0\to\t     333+/-      18\t     262+/-      11\t3\tx\n",
      "512\t0.4\t0.05\tTrimers \t  199262+/-       5\t  212224+/-       6\t-1633\tx\t     176+/-       4\t     164+/-       4\t2\to\n",
      "512\t0.8\t0.2\tDimers  \t  175330+/-       7\t  185463+/-       5\t-1194\tx\t   152.0+/-     3.3\t   137.5+/-     2.8\t3\tx\n",
      "512\t0.8\t0.2\tLinear trimers\t  156450+/-      21\t  167215+/-      12\t-441\tx\t     235+/-      17\t     226+/-       6\t1\to\n",
      "512\t0.8\t0.2\tTrimers \t  164535+/-       6\t  174085+/-       6\t-1098\tx\t   172.8+/-     3.3\t     170+/-       4\t1\to\n",
      "512\t0.8\t0.2\tSquared \t  143767+/-      34\t  143673+/-      16\t3\to\t     461+/-      18\t     287+/-       6\t9\tx\n",
      "512\t1.2\t0.05\tDimers  \t210499.2+/-     3.5\t  224035+/-       4\t-2725\tx\t   150.4+/-     2.9\t   127.2+/-     2.7\t6\tx\n",
      "512\t1.2\t0.05\tLinear trimers\t  191627+/-       7\t  206758+/-       6\t-1670\tx\t     204+/-       4\t     185+/-       4\t3\tx\n",
      "512\t1.2\t0.05\tTrimers \t  198955+/-       5\t  211700+/-       4\t-1907\tx\t     176+/-       4\t   160.5+/-     3.3\t3\to\n",
      "512\t1.2\t0.05\tSquared \t  181052+/-      12\t  181063+/-       8\t-1\to\t     257+/-       5\t     243+/-       7\t2\to\n",
      "512\t1.2\t0.1\tDimers  \t  198577+/-       4\t210714.9+/-     3.3\t-2206\tx\t   149.2+/-     3.1\t   130.6+/-     2.5\t5\tx\n",
      "512\t1.2\t0.1\tLinear trimers\t  179241+/-      14\t  192508+/-      11\t-749\tx\t     211+/-       4\t     196+/-       7\t2\to\n",
      "512\t0.4\t0.05\tSquared \t  182757+/-      16\t  182777+/-       7\t-1\to\t     294+/-       7\t     277+/-       7\t2\to\n",
      "512\t1.2\t0.1\tTrimers \t  187204+/-       5\t  198690+/-       5\t-1572\tx\t   173.9+/-     3.5\t   162.0+/-     3.3\t2\to\n",
      "512\t1.2\t0.1\tSquared \t  167096+/-       8\t  167184+/-       9\t-7\tx\t     274+/-      12\t     265+/-       7\t1\to\n",
      "512\t1.2\t0.2\tDimers  \t  174889+/-       5\t  184640+/-       6\t-1289\tx\t     148+/-       4\t     140+/-       5\t1\to\n",
      "512\t1.2\t0.2\tLinear trimers\t  155098+/-      10\t  165368+/-      20\t-462\tx\t     206+/-       5\t     229+/-      15\t-1\to\n",
      "512\t1.2\t0.2\tTrimers \t  163932+/-       4\t  173201+/-       7\t-1191\tx\t   170.6+/-     2.7\t   165.9+/-     3.0\t1\to\n",
      "512\t1.2\t0.2\tSquared \t  141155+/-      19\t  141166+/-       9\t-1\to\t     401+/-       9\t     306+/-       6\t9\tx\n",
      "512\t1.6\t0.05\tDimers  \t210427.0+/-     3.3\t  223848+/-       4\t-2750\tx\t   150.2+/-     3.5\t   127.6+/-     2.2\t5\tx\n",
      "512\t1.6\t0.05\tLinear trimers\t  191326+/-       9\t  206310+/-       9\t-1196\tx\t     202+/-       5\t     185+/-       4\t3\to\n",
      "512\t1.6\t0.05\tTrimers \t  198875+/-       5\t  211559+/-       5\t-1795\tx\t   175.6+/-     3.3\t     161+/-       4\t3\to\n",
      "512\t1.6\t0.05\tSquared \t  180489+/-       8\t  180512+/-       7\t-2\to\t     248+/-       5\t     242+/-       4\t1\to\n",
      "512\t0.4\t0.1\tDimers  \t  199063+/-       6\t  211771+/-       7\t-1415\tx\t     152+/-       4\t     144+/-       5\t1\to\n",
      "512\t1.6\t0.1\tDimers  \t  198421+/-       4\t  210352+/-       5\t-1946\tx\t   148.7+/-     2.9\t   130.0+/-     2.1\t5\tx\n",
      "512\t1.6\t0.1\tLinear trimers\t  178657+/-      11\t  191670+/-      11\t-827\tx\t     206+/-       6\t     194+/-       5\t2\to\n",
      "512\t1.6\t0.1\tTrimers \t  187017+/-       6\t  198383+/-       7\t-1262\tx\t   175.3+/-     3.4\t   162.0+/-     2.5\t3\tx\n",
      "512\t1.6\t0.1\tSquared \t  166022+/-      16\t  166051+/-       8\t-2\to\t     269+/-       6\t     245+/-       4\t3\tx\n",
      "512\t1.6\t0.2\tDimers  \t  174531+/-       5\t  183957+/-       4\t-1514\tx\t   146.1+/-     3.5\t     133+/-       4\t3\to\n",
      "512\t1.6\t0.2\tLinear trimers\t  154039+/-      17\t  163840+/-      11\t-480\tx\t     217+/-       6\t     207+/-       4\t1\to\n",
      "512\t1.6\t0.2\tTrimers \t  163482+/-       6\t  172546+/-       6\t-1114\tx\t   171.1+/-     3.3\t     166+/-       4\t1\to\n",
      "512\t1.6\t0.2\tSquared \t  139009+/-      22\t  139064+/-       9\t-2\to\t     327+/-      22\t     282+/-       5\t2\to\n",
      "512\t0.4\t0.1\tLinear trimers\t  180836+/-      13\t  194939+/-      18\t-641\tx\t     230+/-       6\t     242+/-      10\t-1\to\n",
      "512\t0.4\t0.1\tTrimers \t  187865+/-       6\t  199744+/-       6\t-1445\tx\t   177.7+/-     3.3\t   174.1+/-     3.3\t1\to\n",
      "512\t0.4\t0.1\tSquared \t1.7034e+05+/-0.0004e+05\t  170379+/-      12\t-1\to\t     374+/-      15\t     334+/-       7\t2\to\n",
      "512\t0.4\t0.2\tDimers  \t  175904+/-      10\t  186549+/-       8\t-816\tx\t     160+/-       4\t     177+/-       5\t-2\to\n",
      "512\t0.4\t0.2\tLinear trimers\t  158129+/-      27\t1.6958e+05+/-0.0004e+05\t-236\tx\t     292+/-      10\t     316+/-      22\t-1\to\n"
     ]
    }
   ],
   "source": [
    "print( \"Side\\tGamma\\tQ\\tType\\t\\tMean: v1\\tv2\\tcompat\")\n",
    "for v1, v2 in zip( all_data_v1, all_data_v2 ):\n",
    "    if( v1['side'] == v2['side']):\n",
    "        if( v1['gamma'] == v2['gamma']):\n",
    "            if( v1['defects_frac'] == v2['defects_frac']):\n",
    "                if( v1['dep_polymers'] == v2['dep_polymers']):\n",
    "                    print(\n",
    "                        v1['side'],\n",
    "                        v1['gamma'],\n",
    "                        v1['defects_frac'],\n",
    "                        f\"{v1['dep_polymers']:8}\",\n",
    "                        f\"{v1['mean']:8}\",\n",
    "                        f\"{v2['mean']:8}\",\n",
    "                        f\"{compat( v1['mean'], v2['mean'] ):.0f}\",\n",
    "                        'o' if abs( compat( v1['mean'], v2['mean'] ) ) < 3 else 'x',\n",
    "                        f\"{v1['np_std']:8}\",\n",
    "                        f\"{v2['np_std']:8}\",\n",
    "                        f\"{compat( v1['np_std'], v2['np_std'] ):.0f}\",\n",
    "                        'o' if abs( compat( v1['np_std'], v2['np_std'] ) ) < 3 else 'x',\n",
    "                        sep='\\t' )"
   ]
  },
  {
   "cell_type": "code",
   "execution_count": null,
   "metadata": {},
   "outputs": [],
   "source": []
  }
 ],
 "metadata": {
  "kernelspec": {
   "display_name": "Python 3.7.7 ('nanophys')",
   "language": "python",
   "name": "python3"
  },
  "language_info": {
   "codemirror_mode": {
    "name": "ipython",
    "version": 3
   },
   "file_extension": ".py",
   "mimetype": "text/x-python",
   "name": "python",
   "nbconvert_exporter": "python",
   "pygments_lexer": "ipython3",
   "version": "3.7.7"
  },
  "orig_nbformat": 4,
  "vscode": {
   "interpreter": {
    "hash": "daf6b97390dd722c0ded1686e7e1cc1e9803986a5dc5f7e36ca5b4cc6fcb9f47"
   }
  }
 },
 "nbformat": 4,
 "nbformat_minor": 2
}
