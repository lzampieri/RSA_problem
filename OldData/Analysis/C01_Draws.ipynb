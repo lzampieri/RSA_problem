{
 "cells": [
  {
   "cell_type": "code",
   "execution_count": 1,
   "metadata": {},
   "outputs": [],
   "source": [
    "%reset\n",
    "%load_ext autoreload\n",
    "%autoreload 2"
   ]
  },
  {
   "cell_type": "code",
   "execution_count": 2,
   "metadata": {},
   "outputs": [],
   "source": [
    "import numpy as np\n",
    "from functions import DrawsLoader, splt\n",
    "import matplotlib.pyplot as plt\n",
    "from scipy.optimize import curve_fit\n",
    "from math import sqrt\n",
    "\n",
    "savedir = \"C01_bis/\""
   ]
  },
  {
   "cell_type": "code",
   "execution_count": 4,
   "metadata": {},
   "outputs": [
    {
     "name": "stdout",
     "output_type": "stream",
     "text": [
      "No data!\n"
     ]
    }
   ],
   "source": [
    "data = DrawsLoader.load_data( \"AcerAnalysis/default_20220515_28\" )\n",
    "if( len( data ) > 0 ):\n",
    "    data = data[ np.vectorize( lambda i: i['gamma'] )(data).argsort() ]\n",
    "else:\n",
    "    print(\"No data!\")\n",
    "\n",
    "colors = {\n",
    "    0: 'tab:blue',\n",
    "    1: 'green',\n",
    "    -1: 'tab:red'\n",
    "}\n",
    "get_cols = np.vectorize( lambda x: colors[x] )"
   ]
  },
  {
   "cell_type": "code",
   "execution_count": 4,
   "metadata": {},
   "outputs": [
    {
     "data": {
      "text/plain": [
       "<Figure size 0x288 with 0 Axes>"
      ]
     },
     "metadata": {},
     "output_type": "display_data"
    }
   ],
   "source": [
    "# Show data\n",
    "\n",
    "splt.init( 1, len( data ) )\n",
    "for d in data:\n",
    "    splt.next()\n",
    "    plt.scatter( d['draw']['x'], d['draw']['y'], marker='s',  color= get_cols( d['draw']['v'] ) )\n",
    "    plt.axis( 'square' )\n",
    "    plt.axis('off')"
   ]
  },
  {
   "cell_type": "code",
   "execution_count": 5,
   "metadata": {},
   "outputs": [],
   "source": [
    "# Save data\n",
    "\n",
    "for d in data:\n",
    "    plt.figure( figsize = (5, 5) )\n",
    "    plt.scatter( d['draw']['x'], d['draw']['y'], marker='s',  color= get_cols( d['draw']['v'] ) )\n",
    "    plt.axis( 'square' )\n",
    "    plt.axis('off')\n",
    "    plt.tight_layout()\n",
    "    plt.savefig( savedir + \"defs_\" + str( d['gamma'] ) + \".pdf\" )"
   ]
  },
  {
   "cell_type": "code",
   "execution_count": null,
   "metadata": {},
   "outputs": [],
   "source": [
    "# Save data\n",
    "\n",
    "for d in data:\n",
    "    plt.figure( figsize = (5, 5) )\n",
    "    \n",
    "    plt.scatter( d['draw']['x'], d['draw']['y'], marker='s',  color= get_cols( d['draw']['v'] ) )\n",
    "    plt.axis( 'square' )\n",
    "    plt.axis('off')\n",
    "    plt.tight_layout()\n",
    "    plt.savefig( savedir + \"defs_\" + str( d['gamma'] ) + \".pdf\" )"
   ]
  }
 ],
 "metadata": {
  "interpreter": {
   "hash": "ad2bdc8ecc057115af97d19610ffacc2b4e99fae6737bb82f5d7fb13d2f2c186"
  },
  "kernelspec": {
   "display_name": "Python 3.7.7 ('base')",
   "language": "python",
   "name": "python3"
  },
  "language_info": {
   "codemirror_mode": {
    "name": "ipython",
    "version": 3
   },
   "file_extension": ".py",
   "mimetype": "text/x-python",
   "name": "python",
   "nbconvert_exporter": "python",
   "pygments_lexer": "ipython3",
   "version": "3.7.7"
  },
  "orig_nbformat": 4
 },
 "nbformat": 4,
 "nbformat_minor": 2
}
