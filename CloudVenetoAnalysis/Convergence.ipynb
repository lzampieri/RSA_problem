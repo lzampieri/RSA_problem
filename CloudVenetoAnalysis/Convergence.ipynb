{
 "cells": [
  {
   "cell_type": "code",
   "execution_count": 2,
   "metadata": {},
   "outputs": [],
   "source": [
    "import numpy as np\n",
    "import matplotlib.pyplot as plt\n",
    "from pathlib import Path\n",
    "import json\n",
    "from matplotlib.backends.backend_pdf import PdfPages"
   ]
  },
  {
   "cell_type": "code",
   "execution_count": 3,
   "metadata": {},
   "outputs": [],
   "source": [
    "folder = \"20220304_Delta_SmallSide_20220304\""
   ]
  },
  {
   "cell_type": "code",
   "execution_count": 17,
   "metadata": {},
   "outputs": [
    {
     "name": "stdout",
     "output_type": "stream",
     "text": [
      "64 :\t 48\n",
      "128 :\t 48\n",
      "256 :\t 48\n"
     ]
    }
   ],
   "source": [
    "# Load data\n",
    "\n",
    "p = Path( folder + \"/\" )\n",
    "dirs = [f for f in p.iterdir() if f.is_dir()]\n",
    "data = []\n",
    "\n",
    "def load( filename ):\n",
    "    text = filename.read_text()\n",
    "    text = text.replace(\"nan\",\"0\")\n",
    "    text = text.replace(\"False\", \"false\" )\n",
    "    text = text.replace(\"True\", \"true\" )\n",
    "    text = text.replace(\",]\", \"]\" )\n",
    "    return json.loads( text )\n",
    "\n",
    "for d in dirs:\n",
    "    item = {}\n",
    "    item.update( load( d / 'details.txt'     ) )\n",
    "    item.update( load( d / 'deposition.txt'  ) )\n",
    "    item.update( load( d / 'percolation.txt' ) )\n",
    "    data.append(item)\n",
    "\n",
    "sides = np.array( [ item['side'] for item in data ] )\n",
    "for s in np.unique( sides ):\n",
    "    print( s, \":\\t\", np.sum( sides == s ) )"
   ]
  },
  {
   "cell_type": "code",
   "execution_count": 10,
   "metadata": {},
   "outputs": [],
   "source": [
    "with PdfPages( folder + \"_anal/convergence.pdf\" ) as pdf:\n",
    "    for d in data:\n",
    "        plt.figure()    \n",
    "        \n",
    "        plt.semilogy( d['occupation_fraction_std_history'])\n",
    "\n",
    "        plt.ylim( np.mean( d['occupation_fraction_std_history'] ) / 3, 3 * np.mean( d['occupation_fraction_std_history'] ) )\n",
    "\n",
    "        pdf.savefig()\n",
    "\n",
    "        plt.close()"
   ]
  }
 ],
 "metadata": {
  "interpreter": {
   "hash": "b3ba2566441a7c06988d0923437866b63cedc61552a5af99d1f4fb67d367b25f"
  },
  "kernelspec": {
   "display_name": "Python 3.7.7 ('base')",
   "language": "python",
   "name": "python3"
  },
  "language_info": {
   "codemirror_mode": {
    "name": "ipython",
    "version": 3
   },
   "file_extension": ".py",
   "mimetype": "text/x-python",
   "name": "python",
   "nbconvert_exporter": "python",
   "pygments_lexer": "ipython3",
   "version": "3.7.7"
  },
  "orig_nbformat": 4
 },
 "nbformat": 4,
 "nbformat_minor": 2
}
