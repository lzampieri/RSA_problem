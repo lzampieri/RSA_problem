{
 "cells": [
  {
   "cell_type": "code",
   "execution_count": 1,
   "metadata": {},
   "outputs": [],
   "source": [
    "%reset\n",
    "%load_ext autoreload\n",
    "%autoreload 2"
   ]
  },
  {
   "cell_type": "code",
   "execution_count": 2,
   "metadata": {},
   "outputs": [],
   "source": [
    "import numpy as np\n",
    "from functions import loader, splt, fitter, stats, grouper\n",
    "import matplotlib.pyplot as plt\n",
    "from uncertainties import unumpy as unp\n",
    "from uncertainties import ufloat\n",
    "\n",
    "savedir = \"H01/\""
   ]
  },
  {
   "cell_type": "code",
   "execution_count": 3,
   "metadata": {},
   "outputs": [],
   "source": [
    "real_data = loader.remove_duplicates( loader.load_data( \"../CloudVenetoAnalysisHuge/**/\" ),\n",
    "    lambda d: ( d['dep_polymers'], d['side'], d['defects_frac'], d['gamma'] ),\n",
    "    lambda d: d['runned_replicas']\n",
    ")\n",
    "loader.compute_stds( real_data )"
   ]
  },
  {
   "cell_type": "code",
   "execution_count": 8,
   "metadata": {},
   "outputs": [],
   "source": [
    "imag_data = loader.remove_duplicates( loader.load_data( \"../CloudVenetoAnalysisHugeButComplex/**/\" ),\n",
    "    lambda d: ( d['dep_polymers'], d['side'], d['defects_frac'], d['gamma'] ),\n",
    "    lambda d: d['runned_replicas']\n",
    ")\n",
    "loader.compute_stds( imag_data )"
   ]
  },
  {
   "cell_type": "code",
   "execution_count": 13,
   "metadata": {},
   "outputs": [
    {
     "name": "stdout",
     "output_type": "stream",
     "text": [
      "===VALUES===\n",
      "Real: 0.803474+/-0.000005 \t Imag: 0.80391+/-0.00004 \t Compat: 10.76314479963851\n",
      "Real: 0.7594944+/-0.0000033 \t Imag: 0.759958+/-0.000020 \t Compat: 22.403648282052327\n",
      "Real: 0.59531+/-0.00006 \t Imag: 0.59925+/-0.00019 \t Compat: 19.593349268176457\n",
      "Real: 0.546221+/-0.000024 \t Imag: 0.55378+/-0.00010 \t Compat: 76.07938059005433\n",
      "Real: 0.803023+/-0.000009 \t Imag: 0.803553+/-0.000013 \t Compat: 32.542059289879795\n",
      "Real: 0.758936+/-0.000017 \t Imag: 0.759561+/-0.000009 \t Compat: 32.76970532657282\n",
      "Real: 0.732205+/-0.000005 \t Imag: 0.733368+/-0.000005 \t Compat: 165.82110203651592\n",
      "Real: 0.693005+/-0.000007 \t Imag: 0.69499+/-0.00009 \t Compat: 22.335936074766593\n",
      "Real: 0.758266+/-0.000007 \t Imag: 0.75913+/-0.00010 \t Compat: 9.008547244309163\n",
      "Real: 0.715037+/-0.000007 \t Imag: 0.716019+/-0.000014 \t Compat: 64.08073348753636\n",
      "Real: 0.685778+/-0.000010 \t Imag: 0.687972+/-0.000032 \t Compat: 64.9075985877973\n",
      "Real: 0.64186+/-0.00005 \t Imag: 0.64602+/-0.00005 \t Compat: 58.458622333787936\n",
      "Real: 0.66862+/-0.00005 \t Imag: 0.670283+/-0.000004 \t Compat: 30.4054763930399\n",
      "Real: 0.627151+/-0.000009 \t Imag: 0.629426+/-0.000022 \t Compat: 97.58977711895824\n",
      "\n",
      "\n",
      "===STDs===\n",
      "Real: 0.004582+/-0.000005 \t Imag: 0.004624+/-0.000019 \t Compat: 2.1788618827867197\n",
      "Real: 0.005346+/-0.000010 \t Imag: 0.005376+/-0.000018 \t Compat: 1.449238494279967\n",
      "Real: 0.006151+/-0.000022 \t Imag: 0.00606+/-0.00006 \t Compat: 1.542816828327913\n",
      "Real: 0.008176+/-0.000014 \t Imag: 0.00778+/-0.00005 \t Compat: 8.031559716602736\n",
      "Real: 0.004589+/-0.000004 \t Imag: 0.004562+/-0.000004 \t Compat: 4.8125005903728555\n",
      "Real: 0.005360+/-0.000006 \t Imag: 0.0053446+/-0.0000033 \t Compat: 2.133134378456259\n",
      "Real: 0.006095+/-0.000007 \t Imag: 0.006071+/-0.000009 \t Compat: 2.2335658759325376\n",
      "Real: 0.007442+/-0.000007 \t Imag: 0.00737+/-0.00005 \t Compat: 1.5547289137550382\n",
      "Real: 0.0045203+/-0.0000027 \t Imag: 0.004538+/-0.000011 \t Compat: 1.604075471920225\n",
      "Real: 0.005318+/-0.000007 \t Imag: 0.005300+/-0.000017 \t Compat: 0.9940276022292995\n",
      "Real: 0.006131+/-0.000011 \t Imag: 0.006082+/-0.000006 \t Compat: 3.9214820076855688\n",
      "Real: 0.007659+/-0.000029 \t Imag: 0.007458+/-0.000019 \t Compat: 5.911614724150537\n",
      "Real: 0.004401+/-0.000014 \t Imag: 0.0043587+/-0.0000014 \t Compat: 3.133107565272531\n",
      "Real: 0.005238+/-0.000006 \t Imag: 0.005155+/-0.000005 \t Compat: 11.168411421025349\n"
     ]
    }
   ],
   "source": [
    "def print_compats( key ):\n",
    "    idre = 0\n",
    "    idim = 0\n",
    "\n",
    "    func = lambda d: ( d['dep_polymers'], d['side'], d['defects_frac'], d['gamma'] )\n",
    "    while( idim < len( imag_data ) ):\n",
    "        while( func( real_data[idre] ) != func( imag_data[idim] ) ):\n",
    "            idre = idre + 1\n",
    "\n",
    "        rdv = real_data[idre][key]\n",
    "        idv = imag_data[idim][key]\n",
    "        compat = np.abs( rdv.n - idv.n ) / np.sqrt( rdv.s**2 + idv.s**2 )\n",
    "\n",
    "        print( f\"Real: {rdv} \\t Imag: {idv} \\t Compat: {compat}\")\n",
    "\n",
    "        idim = idim + 1\n",
    "\n",
    "print(\"===VALUES===\")\n",
    "print_compats( 'jamming_frac_avg' )\n",
    "print(\"\\n\\n===STDs===\")\n",
    "print_compats( 'jamming_frac_std' )"
   ]
  },
  {
   "cell_type": "code",
   "execution_count": 6,
   "metadata": {},
   "outputs": [
    {
     "data": {
      "text/plain": [
       "245"
      ]
     },
     "execution_count": 6,
     "metadata": {},
     "output_type": "execute_result"
    }
   ],
   "source": [
    "len( real_data )"
   ]
  },
  {
   "cell_type": "code",
   "execution_count": 7,
   "metadata": {},
   "outputs": [
    {
     "data": {
      "text/plain": [
       "0"
      ]
     },
     "execution_count": 7,
     "metadata": {},
     "output_type": "execute_result"
    }
   ],
   "source": [
    "len( imag_data )"
   ]
  },
  {
   "cell_type": "code",
   "execution_count": null,
   "metadata": {},
   "outputs": [],
   "source": []
  }
 ],
 "metadata": {
  "kernelspec": {
   "display_name": "Python 3.7.7 ('nanophys')",
   "language": "python",
   "name": "python3"
  },
  "language_info": {
   "codemirror_mode": {
    "name": "ipython",
    "version": 3
   },
   "file_extension": ".py",
   "mimetype": "text/x-python",
   "name": "python",
   "nbconvert_exporter": "python",
   "pygments_lexer": "ipython3",
   "version": "3.7.7"
  },
  "orig_nbformat": 4,
  "vscode": {
   "interpreter": {
    "hash": "daf6b97390dd722c0ded1686e7e1cc1e9803986a5dc5f7e36ca5b4cc6fcb9f47"
   }
  }
 },
 "nbformat": 4,
 "nbformat_minor": 2
}
