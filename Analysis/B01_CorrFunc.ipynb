{
 "cells": [
  {
   "cell_type": "code",
   "execution_count": 4,
   "metadata": {},
   "outputs": [],
   "source": [
    "%reset\n",
    "%load_ext autoreload\n",
    "%autoreload 2"
   ]
  },
  {
   "cell_type": "code",
   "execution_count": 33,
   "metadata": {},
   "outputs": [],
   "source": [
    "import numpy as np\n",
    "from functions import CFloader, splt\n",
    "import matplotlib.pyplot as plt\n",
    "from scipy.optimize import curve_fit\n",
    "from math import sqrt\n",
    "\n",
    "savedir = \"B01/\""
   ]
  },
  {
   "cell_type": "code",
   "execution_count": 35,
   "metadata": {},
   "outputs": [
    {
     "name": "stderr",
     "output_type": "stream",
     "text": [
      "No handles with labels found to put in legend.\n",
      "No handles with labels found to put in legend.\n",
      "No handles with labels found to put in legend.\n",
      "No handles with labels found to put in legend.\n"
     ]
    },
    {
     "data": {
      "image/png": "[encoded data removed]",
      "text/plain": [
       "<Figure size 432x288 with 1 Axes>"
      ]
     },
     "metadata": {
      "needs_background": "light"
     },
     "output_type": "display_data"
    }
   ],
   "source": [
    "data = CFloader.load_data( \"CloudVenetoAnalysis/default_20220508\" )\n",
    "# data = CFloader.load_data( \"AcerAnalysis/default_20220509_0\" )\n",
    "\n",
    "for d in data:\n",
    "    x = np.array( d['CF_D']['x'] )\n",
    "    y = np.array( d['CF_D']['y'] ) / d['side'] / d['side']\n",
    "    plt.plot( x,  y, '+' )\n",
    "\n",
    "    def f( x, A, gamma ):\n",
    "        return A * ( 1 + x**2 ) ** ( - gamma / 2 )\n",
    "    # p, pc = curve_fit( f, x, y, [ y[0], 0.2 ] )\n",
    "    # y2 = f( x, p[0], p[1] )\n",
    "\n",
    "    # plt.plot( x, y2, label = fr\"${p[1]:.3f} \\pm {sqrt(pc[1,1]):.3f}$\" ) \n",
    "    plt.xscale( 'log' )\n",
    "    plt.yscale( 'log' )\n",
    "    plt.legend()"
   ]
  },
  {
   "cell_type": "code",
   "execution_count": null,
   "metadata": {},
   "outputs": [],
   "source": []
  }
 ],
 "metadata": {
  "interpreter": {
   "hash": "ad2bdc8ecc057115af97d19610ffacc2b4e99fae6737bb82f5d7fb13d2f2c186"
  },
  "kernelspec": {
   "display_name": "Python 3.7.7 ('base')",
   "language": "python",
   "name": "python3"
  },
  "language_info": {
   "codemirror_mode": {
    "name": "ipython",
    "version": 3
   },
   "file_extension": ".py",
   "mimetype": "text/x-python",
   "name": "python",
   "nbconvert_exporter": "python",
   "pygments_lexer": "ipython3",
   "version": "3.7.7"
  },
  "orig_nbformat": 4
 },
 "nbformat": 4,
 "nbformat_minor": 2
}
