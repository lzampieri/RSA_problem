{
 "cells": [
  {
   "cell_type": "code",
   "execution_count": 1,
   "metadata": {},
   "outputs": [],
   "source": [
    "%reset\n",
    "%load_ext autoreload\n",
    "%autoreload 2"
   ]
  },
  {
   "cell_type": "code",
   "execution_count": 8,
   "metadata": {},
   "outputs": [],
   "source": [
    "import numpy as np\n",
    "from functions import loader, splt, fitter, stats\n",
    "import matplotlib.pyplot as plt\n",
    "from scipy.stats import kurtosis, skew\n",
    "from uncertainties import *\n",
    "from uncertainties import unumpy as unp\n",
    "\n",
    "savedir = \"D05/\""
   ]
  },
  {
   "cell_type": "code",
   "execution_count": 9,
   "metadata": {},
   "outputs": [
    {
     "data": {
      "text/plain": [
       "18"
      ]
     },
     "execution_count": 9,
     "metadata": {},
     "output_type": "execute_result"
    }
   ],
   "source": [
    "## Choose if is better with dedicated data...\n",
    "\n",
    "all_data = loader.load_data( \"../CloudVenetoAnalysisBis/20220611UngaussianityBySizeHighRes*/**/\" )\n",
    "data = all_data\n",
    "len( data )\n",
    "\n",
    "## Or with all data\n",
    "\n",
    "# all_data = loader.load_data()\n",
    "# data = loader.remove_duplicates( all_data,\n",
    "#     lambda d: ( d['dep_polymers'], d['side'], d['defects_frac'], d['gamma'] ),\n",
    "#     lambda d: d['runned_replicas']\n",
    "# )\n",
    "# data = data[ np.vectorize( lambda d: ( d['gamma'] == 0.4 ) and ( d['defects_frac'] == 0.2 ) )( data ) ]\n",
    "# len( data )"
   ]
  },
  {
   "cell_type": "code",
   "execution_count": 15,
   "metadata": {},
   "outputs": [
    {
     "data": {
      "text/plain": [
       "18"
      ]
     },
     "execution_count": 15,
     "metadata": {},
     "output_type": "execute_result"
    }
   ],
   "source": [
    "for d in data:\n",
    "    # x, y = fitter.rebin_width( d['h_x'], d['h'], 0.0002 )\n",
    "    x, y = fitter.rebin_n( d['h_x'], d['h'], 50 )\n",
    "    d['fits'] = fitter.entropyc_fits( d['xs'], x )\n",
    "    d['skew'] = skew( d['chunks'], bias=True )\n",
    "    d['skew_u'] = stats.compute_in_decades( d['chunks'], lambda c: skew( c, bias=True ) )\n",
    "    d['G'] = stats.G( d['chunks'] )\n",
    "    d['G_u'] = stats.compute_in_decades( d['chunks'], lambda c: G( c ) )\n",
    "    d['npskew'] = ( np.mean( d['chunks'] ) - np.median( d['chunks'] ) ) / np.std( d['chunks'], ddof = 1 )\n",
    "    d['npskew_u'] = stats.compute_in_decades( d['chunks'], lambda c: ( np.mean( c ) - np.median( c ) ) / np.std( c, ddof = 1 ) )\n",
    "    d['Z&S'] = np.sqrt( 2 * len( d['chunks'] ) ) * ( np.mean( d['chunks'] ) - np.median( d['chunks'] ) ) / np.std( d['chunks'], ddof = 1 )\n",
    "    d['kurt'] = kurtosis( d['chunks'] )\n",
    "\n",
    "filtered_data = data\n",
    "len( filtered_data )"
   ]
  },
  {
   "cell_type": "code",
   "execution_count": 16,
   "metadata": {},
   "outputs": [
    {
     "data": {
      "image/png": "[encoded data removed]",
      "text/plain": [
       "<Figure size 1296x288 with 1 Axes>"
      ]
     },
     "metadata": {
      "needs_background": "light"
     },
     "output_type": "display_data"
    }
   ],
   "source": [
    "max = np.max( [ d['npskew'] for d in filtered_data ] )\n",
    "min = np.min( [ d['npskew'] for d in filtered_data ] )\n",
    "\n",
    "splt.oneitem_iterate_errorbar(\n",
    "    len( filtered_data ),\n",
    "    lambda d: filtered_data[d]['defects_frac'],\n",
    "    lambda d: filtered_data[d]['dep_polymers'],\n",
    "    lambda d: filtered_data[d]['side'],\n",
    "    lambda d: [\n",
    "        filtered_data[d]['npskew_u'],\n",
    "    ],\n",
    "    lambda it, l: [\n",
    "        { 'label': fr\"{l}\", 'ls': '-', 'marker': 's'  }\n",
    "    ],\n",
    "    lambda it: (\n",
    "        plt.title( fr\"q={it}\" ),\n",
    "        plt.ylim( np.min( [min * 1.1, min * 0.9] ), max * 1.1 ),\n",
    "        plt.xscale( 'log', basex = 2 ),\n",
    "        # plt.yscale( 'log', basey = 10 ),\n",
    "        plt.xlabel( fr\"$Side$\" ),\n",
    "        splt.hline( 0 ),\n",
    "        plt.ylabel( fr\"$S$\" )\n",
    "    )\n",
    ")\n",
    "\n",
    "plt.tight_layout()\n",
    "plt.savefig( savedir + \"nonparametric_skewness_ofL_witherrors.pdf\" )\n",
    "plt.savefig( savedir + \"nonparametric_skewness_ofL_witherrors.png\" )"
   ]
  }
 ],
 "metadata": {
  "interpreter": {
   "hash": "ad2bdc8ecc057115af97d19610ffacc2b4e99fae6737bb82f5d7fb13d2f2c186"
  },
  "kernelspec": {
   "display_name": "Python 3.7.7 ('base')",
   "language": "python",
   "name": "python3"
  },
  "language_info": {
   "codemirror_mode": {
    "name": "ipython",
    "version": 3
   },
   "file_extension": ".py",
   "mimetype": "text/x-python",
   "name": "python",
   "nbconvert_exporter": "python",
   "pygments_lexer": "ipython3",
   "version": "3.7.7"
  },
  "orig_nbformat": 4
 },
 "nbformat": 4,
 "nbformat_minor": 2
}
