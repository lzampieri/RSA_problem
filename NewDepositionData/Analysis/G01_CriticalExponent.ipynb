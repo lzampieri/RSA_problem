{
 "cells": [
  {
   "cell_type": "code",
   "execution_count": 1,
   "metadata": {},
   "outputs": [],
   "source": [
    "%reset\n",
    "%load_ext autoreload\n",
    "%autoreload 2"
   ]
  },
  {
   "cell_type": "code",
   "execution_count": 2,
   "metadata": {},
   "outputs": [],
   "source": [
    "import numpy as np\n",
    "from functions import loader, splt, fitter, stats, grouper\n",
    "import matplotlib.pyplot as plt\n",
    "from uncertainties import unumpy as unp\n",
    "from uncertainties import ufloat\n",
    "\n",
    "savedir = \"G01/\""
   ]
  },
  {
   "cell_type": "code",
   "execution_count": 3,
   "metadata": {},
   "outputs": [
    {
     "data": {
      "text/plain": [
       "29"
      ]
     },
     "execution_count": 3,
     "metadata": {},
     "output_type": "execute_result"
    }
   ],
   "source": [
    "all_data = loader.load_data( \"../Plans20221106TheHugescan_20221114_v2\" )\n",
    "data = loader.remove_duplicates( all_data,\n",
    "    lambda d: ( d['dep_polymers'], d['side'], d['defects_frac'], d['gamma'] ),\n",
    "    lambda d: d['runned_replicas']\n",
    ")\n",
    "len( data )"
   ]
  },
  {
   "cell_type": "code",
   "execution_count": 4,
   "metadata": {},
   "outputs": [],
   "source": [
    "filtered_data = data"
   ]
  },
  {
   "cell_type": "code",
   "execution_count": 5,
   "metadata": {},
   "outputs": [
    {
     "name": "stdout",
     "output_type": "stream",
     "text": [
      "29  rows exported to  G01/data.json\n"
     ]
    }
   ],
   "source": [
    "loader.export( filtered_data, savedir + \"data.json\" )"
   ]
  },
  {
   "cell_type": "code",
   "execution_count": 11,
   "metadata": {},
   "outputs": [
    {
     "name": "stdout",
     "output_type": "stream",
     "text": [
      "0\n"
     ]
    }
   ],
   "source": [
    "from functions import CEfitter\n",
    "\n",
    "to_use = lambda d: d['occupation_std']\n",
    "\n",
    "grouped_data = grouper.extract_xy( filtered_data, ['dep_polymers', 'defects_frac', 'gamma'], lambda d: d['side'], to_use )\n",
    "\n",
    "grouped_data = grouped_data[ np.vectorize( lambda g : len( g['x'] ) > 2 )( grouped_data ) ]\n",
    "\n",
    "# splt.init( len( grouped_data ) / 4 + 1, 4 )\n",
    "for i_g, g in enumerate( grouped_data ):\n",
    "    # splt.next()\n",
    "    # print( i_g, end=': ')\n",
    "    g['B'], logx, logyB = CEfitter.estimate_B_errony( g['x'] , g['y'] )\n",
    "    # plt.title( i_g )\n",
    "    # g['oneovernu'], g['somethingrelatedtoA'] = CEfitter.estimate_oneovernu( logx, logyB )\n",
    "    g['oneovernu_b'], g['somethingrelatedtoA_b'] = CEfitter.estimate_oneovernu_bis( logx, logyB, 0.013 )\n",
    "\n",
    "print( len( grouped_data ) )"
   ]
  },
  {
   "cell_type": "code",
   "execution_count": 8,
   "metadata": {},
   "outputs": [
    {
     "data": {
      "text/plain": [
       "<Figure size 432x0 with 0 Axes>"
      ]
     },
     "metadata": {},
     "output_type": "display_data"
    }
   ],
   "source": [
    "splt.oneitem_iterate_errorbar(\n",
    "    len( grouped_data ),\n",
    "    lambda d: grouped_data[d]['dep_polymers'],\n",
    "    lambda d: grouped_data[d]['defects_frac'],\n",
    "    lambda d: grouped_data[d]['gamma'],\n",
    "    lambda d: [\n",
    "        grouped_data[d]['oneovernu_b']\n",
    "    ],\n",
    "    lambda it, l: [\n",
    "        { 'label': fr\"$q = {l}$\", 'ls': '-', 'marker': 's' },\n",
    "    ],\n",
    "    lambda it: (\n",
    "        plt.title( fr\"{it}\" ),\n",
    "        plt.xlabel( fr\"$\\gamma$\" ),\n",
    "        plt.ylabel( fr\"$1/\\nu$\" ),\n",
    "        plt.ylim( 0.8, 1.15 ),\n",
    "        splt.hline( 1 )\n",
    "    ),\n",
    "    pvals_ys = [ 1.13, 1.11, 1.09 ],\n",
    "    pvals_exp = 1\n",
    ")\n",
    "\n",
    "plt.tight_layout()\n",
    "plt.savefig( savedir + '/oneovernu.pdf' )\n",
    "# plt.savefig( savedir + '/oneovernu.png' )"
   ]
  },
  {
   "cell_type": "code",
   "execution_count": 10,
   "metadata": {},
   "outputs": [
    {
     "data": {
      "text/plain": [
       "<Figure size 432x0 with 0 Axes>"
      ]
     },
     "metadata": {},
     "output_type": "display_data"
    }
   ],
   "source": [
    "splt.oneitem_iterate_errorbar(\n",
    "    len( grouped_data ),\n",
    "    lambda d: grouped_data[d]['dep_polymers'],\n",
    "    lambda d: grouped_data[d]['defects_frac'],\n",
    "    lambda d: grouped_data[d]['gamma'],\n",
    "    lambda d: [\n",
    "        np.max( [ grouped_data[d]['B'], ufloat( 1e-9, 1e-10 ) ] )\n",
    "    ],\n",
    "    lambda it, l: [\n",
    "        { 'label': fr\"$q = {l}$\", 'ls': '-', 'marker': 's' },\n",
    "    ],\n",
    "    lambda it: (\n",
    "        plt.title( fr\"{it}\" ),\n",
    "        plt.xlabel( fr\"$\\gamma$\" ),\n",
    "        plt.ylabel( fr\"$B$\" ),\n",
    "        plt.yscale( 'log' ),\n",
    "        plt.ylim( 1e-10, 1e-3 ),\n",
    "        plt.yticks(\n",
    "            [ 1e-4, 1e-5, 1e-6, 1e-7, 1e-8, 1e-9 ],\n",
    "            [ r\"$10^{-4}$\", r\"$10^{-5}$\", r\"$10^{-6}$\", r\"$10^{-7}$\", r\"$10^{-8}$\", r\"$\\approx$ 0\" ] ),\n",
    "            plt.minorticks_off()\n",
    "        # splt.hline( 0 )\n",
    "    )\n",
    ")\n",
    "\n",
    "plt.tight_layout()\n",
    "plt.savefig( savedir + '/B.pdf' )\n",
    "# plt.savefig( savedir + '/B.png' )"
   ]
  },
  {
   "cell_type": "code",
   "execution_count": null,
   "metadata": {},
   "outputs": [],
   "source": []
  }
 ],
 "metadata": {
  "kernelspec": {
   "display_name": "Python 3.7.7 ('base')",
   "language": "python",
   "name": "python3"
  },
  "language_info": {
   "codemirror_mode": {
    "name": "ipython",
    "version": 3
   },
   "file_extension": ".py",
   "mimetype": "text/x-python",
   "name": "python",
   "nbconvert_exporter": "python",
   "pygments_lexer": "ipython3",
   "version": "3.7.7"
  },
  "orig_nbformat": 4,
  "vscode": {
   "interpreter": {
    "hash": "ad2bdc8ecc057115af97d19610ffacc2b4e99fae6737bb82f5d7fb13d2f2c186"
   }
  }
 },
 "nbformat": 4,
 "nbformat_minor": 2
}
